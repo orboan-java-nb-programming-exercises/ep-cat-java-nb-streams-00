{
 "cells": [
  {
   "cell_type": "markdown",
   "metadata": {},
   "source": [
    "# Exercici Pràctic Streams"
   ]
  },
  {
   "cell_type": "code",
   "execution_count": 1,
   "metadata": {
    "ExecuteTime": {
     "end_time": "2021-01-17T18:12+0000",
     "start_time": "2021-01-17T18:10:14.864Z"
    },
    "init_cell": true
   },
   "outputs": [],
   "source": [
    "import java.util.stream.Stream;\n",
    "import java.util.stream.Collectors;\n",
    "import static java.util.stream.Collectors.*;\n",
    "import java.nio.charset.StandardCharsets;\n",
    "import java.nio.file.Files;\n",
    "import java.nio.file.Paths;"
   ]
  },
  {
   "cell_type": "markdown",
   "metadata": {},
   "source": [
    "## Exercici 1"
   ]
  },
  {
   "cell_type": "markdown",
   "metadata": {},
   "source": [
    "Donada la següent llista:\n",
    "\n",
    "```java\n",
    "List<String> list = Arrays.asList(\n",
    "        \"The\", \"Quick\", \"BROWN\", \"Fox\", \"Jumped\", \"Over\", \"The\", \"LAZY\", \"DOG\");\n",
    "```\n",
    "\n",
    "creeu, usant streams, una nova llista amb tots els elements d'aquesta llista, però de manera que estiguin totes les paraules en minúscules.\n",
    "\n",
    "Imprimiu per pantalla, des de l'stream, tots els elements transformats a minúscules.\n",
    "\n",
    "Imprimiu per pantalla tots els elements de la nova llista."
   ]
  },
  {
   "cell_type": "code",
   "execution_count": null,
   "metadata": {
    "ExecuteTime": {
     "end_time": "2021-01-17T17:39+0000",
     "start_time": "2021-01-17T17:37:34.094Z"
    }
   },
   "outputs": [],
   "source": [
    "List<String> list = Arrays.asList(\n",
    "        \"The\", \"Quick\", \"BROWN\", \"Fox\", \"Jumped\", \"Over\", \"The\", \"LAZY\", \"DOG\");\n",
    "\n",
    "//Print in lower case from the stream\n",
    "/* YOUR CODE HERE */\n",
    "\n",
    "\n",
    "//Create new list to lowerCase\n",
    "/* YOUR CODE HERE */\n",
    "List<String> toLowerCaseList = \n",
    "\n",
    "//Print from the new list\n",
    "for(String s:toLowerCaseList) \n",
    "    System.out.print(s + \" \");"
   ]
  },
  {
   "cell_type": "markdown",
   "metadata": {},
   "source": [
    "## Exercici 2"
   ]
  },
  {
   "cell_type": "markdown",
   "metadata": {},
   "source": [
    "Modifica l'exercici 1, de manera que la llista només contingui strings la longitud dels quals sigui senar."
   ]
  },
  {
   "cell_type": "code",
   "execution_count": null,
   "metadata": {
    "ExecuteTime": {
     "end_time": "2021-01-17T17:39+0000",
     "start_time": "2021-01-17T17:37:24.501Z"
    }
   },
   "outputs": [],
   "source": [
    "List<String> list = Arrays.asList(\n",
    "        \"The\", \"Quick\", \"BROWN\", \"Fox\", \"Jumped\", \"Over\", \"The\", \"LAZY\", \"DOG\");\n",
    "\n",
    "//Print odd length strings from the stream\n",
    "/* YOUR CODE HERE */\n",
    "\n",
    "\n",
    "//Create new list with odd length strings\n",
    "/* YOUR CODE HERE */\n",
    "List<String> oddLength = \n",
    "\n",
    "//Print from the new list\n",
    "for(String s:oddLength) \n",
    "    System.out.print(s + \" \");"
   ]
  },
  {
   "cell_type": "markdown",
   "metadata": {},
   "source": [
    "## Exercici 3"
   ]
  },
  {
   "cell_type": "markdown",
   "metadata": {},
   "source": [
    "De la llista dels anteriors exercicis, usant streams concatena el segon, el tercer i el quart strings en una sola cadena de text, en la quals els strings de la llista apareguin units amb un guió \"-\".\n",
    "\n",
    "Imprimeix per pantalla l'string resultant.\n",
    "\n",
    "_Pista_: podeu usar les operacions intermitges _limit_ i _skip_ i l'operació terminal _reduce_.\n",
    "\n",
    "Podeu veure exemples de _reduce_ a:\n",
    "\n",
    "[Stream.reduce()](https://www.baeldung.com/java-stream-reduce#using-stream-reduce)"
   ]
  },
  {
   "cell_type": "code",
   "execution_count": null,
   "metadata": {
    "ExecuteTime": {
     "end_time": "2021-01-17T17:45+0000",
     "start_time": "2021-01-17T17:43:41.369Z"
    }
   },
   "outputs": [],
   "source": [
    "List<String> list = Arrays.asList(\n",
    "        \"The\", \"Quick\", \"BROWN\", \"Fox\", \"Jumped\", \"Over\", \"The\", \"LAZY\", \"DOG\");\n",
    "\n",
    "/* YOUR CODE HERE */\n",
    "                            \n",
    "Optional<String> txt = \n",
    "\n",
    "System.out.println(txt.get());"
   ]
  },
  {
   "cell_type": "markdown",
   "metadata": {},
   "source": [
    "## Exercici 4"
   ]
  },
  {
   "cell_type": "markdown",
   "metadata": {},
   "source": [
    "Usant com a font d'un stream el fitxer \"sonnet.txt\", troba el número total de línies que hi ha al mencionat fitxer."
   ]
  },
  {
   "cell_type": "code",
   "execution_count": null,
   "metadata": {
    "ExecuteTime": {
     "end_time": "2021-01-17T17:45+0000",
     "start_time": "2021-01-17T17:43:43.868Z"
    }
   },
   "outputs": [],
   "source": [
    "try (BufferedReader reader = Files.newBufferedReader(\n",
    "        Paths.get(\"sonnet.txt\"), StandardCharsets.UTF_8)) {\n",
    "      /* YOUR CODE HERE */\n",
    "      \n",
    "      \n",
    "} catch (FileNotFoundException e) {\n",
    "    System.out.println(e.getMessage());\n",
    "}"
   ]
  },
  {
   "cell_type": "markdown",
   "metadata": {},
   "source": [
    "## Exercici 5"
   ]
  },
  {
   "cell_type": "markdown",
   "metadata": {},
   "source": [
    "Usant com a font d'un stream el fitxer \"sonnet.txt\", creeu una llista amb totes les paraules (**no valen les paraules repetides**) que apareixen al mencionat fitxer.\n",
    "\n",
    "_Pista_: cal dividir cada línia en paraules, i eliminar les repetides.\n",
    "\n",
    "Com a ajuda us donem el patró regex que us defineix el separador entre paraules."
   ]
  },
  {
   "cell_type": "code",
   "execution_count": null,
   "metadata": {
    "ExecuteTime": {
     "end_time": "2021-01-17T17:58+0000",
     "start_time": "2021-01-17T17:57:06.616Z"
    }
   },
   "outputs": [],
   "source": [
    "String WORD_REGEXP = \"[- .:,]+\";\n",
    "\n",
    "try (BufferedReader reader = Files.newBufferedReader(\n",
    "        Paths.get(\"sonnet.txt\"), StandardCharsets.UTF_8)) {\n",
    "      /* YOUR CODE HERE */\n",
    "      List<String> words = reader.lines(). //Continue coding here\n",
    "          \n",
    "      for(String s:words) \n",
    "          System.out.print(s + \" \");\n",
    "    \n",
    "      System.out.println(\"\\n\\nTimes the word 'the' appears: \" +\n",
    "                  words.stream().filter(w -> w.equals(\"the\")).count());\n",
    "      \n",
    "} catch (FileNotFoundException e) {\n",
    "    System.out.println(e.getMessage());\n",
    "}"
   ]
  },
  {
   "cell_type": "code",
   "execution_count": null,
   "metadata": {},
   "outputs": [],
   "source": []
  },
  {
   "cell_type": "markdown",
   "metadata": {},
   "source": [
    "## Exercici 6"
   ]
  },
  {
   "cell_type": "markdown",
   "metadata": {},
   "source": [
    "Usant com a font d'un stream el fitxer \"sonnet.txt\", creeu una llista amb totes les paraules **no  repetides**, passades a minúscules i ordenades **en ordre natural**, que apareixen al mencionat fitxer.\n",
    "\n",
    "Imprimeix la llista resultant."
   ]
  },
  {
   "cell_type": "code",
   "execution_count": null,
   "metadata": {
    "ExecuteTime": {
     "end_time": "2021-01-17T18:07+0000",
     "start_time": "2021-01-17T18:05:17.637Z"
    }
   },
   "outputs": [],
   "source": [
    "String WORD_REGEXP = \"[- .:,]+\";\n",
    "\n",
    "try (BufferedReader reader = Files.newBufferedReader(\n",
    "        Paths.get(\"sonnet.txt\"), StandardCharsets.UTF_8)) {\n",
    "      /* YOUR CODE HERE */\n",
    "      List<String> words = reader.lines(). //Continue coding here\n",
    "          \n",
    "      for(String s:words) \n",
    "          System.out.print(s + \" \");\n",
    "      \n",
    "} catch (FileNotFoundException e) {\n",
    "    System.out.println(e.getMessage());\n",
    "}\n"
   ]
  },
  {
   "cell_type": "markdown",
   "metadata": {},
   "source": [
    "## Exercici 7"
   ]
  },
  {
   "cell_type": "markdown",
   "metadata": {},
   "source": [
    "Modifica l'exercici anterior de manera que les paraules s'ordenin segons la seva mida (número de caràcters que contenen)."
   ]
  },
  {
   "cell_type": "code",
   "execution_count": null,
   "metadata": {
    "ExecuteTime": {
     "end_time": "2021-01-17T18:10+0000",
     "start_time": "2021-01-17T18:08:25.193Z"
    }
   },
   "outputs": [],
   "source": [
    "String WORD_REGEXP = \"[- .:,]+\";\n",
    "\n",
    "try (BufferedReader reader = Files.newBufferedReader(\n",
    "        Paths.get(\"sonnet.txt\"), StandardCharsets.UTF_8)) {\n",
    "      /* YOUR CODE HERE */\n",
    "      List<String> words = reader.lines(). //Continue coding here\n",
    "          \n",
    "      for(String s:words) \n",
    "          System.out.print(s + \" \");\n",
    "      \n",
    "} catch (FileNotFoundException e) {\n",
    "    System.out.println(e.getMessage());\n",
    "}\n"
   ]
  },
  {
   "cell_type": "code",
   "execution_count": null,
   "metadata": {},
   "outputs": [],
   "source": []
  }
 ],
 "metadata": {
  "kernelspec": {
   "display_name": "Java",
   "language": "java",
   "name": "java"
  },
  "language_info": {
   "codemirror_mode": "java",
   "file_extension": ".jshell",
   "mimetype": "text/x-java-source",
   "name": "Java",
   "pygments_lexer": "java",
   "version": "11.0.9+11-Ubuntu-0ubuntu1.20.04"
  },
  "nbTranslate": {
   "displayLangs": [
    "*"
   ],
   "hotkey": "alt-t",
   "langInMainMenu": true,
   "sourceLang": "en",
   "targetLang": "ca",
   "useGoogleTranslate": true
  },
  "toc": {
   "base_numbering": 1,
   "nav_menu": {},
   "number_sections": true,
   "sideBar": true,
   "skip_h1_title": false,
   "title_cell": "Table of Contents",
   "title_sidebar": "Contents",
   "toc_cell": false,
   "toc_position": {},
   "toc_section_display": true,
   "toc_window_display": false
  },
  "varInspector": {
   "cols": {
    "lenName": 16,
    "lenType": 16,
    "lenVar": 40
   },
   "kernels_config": {
    "python": {
     "delete_cmd_postfix": "",
     "delete_cmd_prefix": "del ",
     "library": "var_list.py",
     "varRefreshCmd": "print(var_dic_list())"
    },
    "r": {
     "delete_cmd_postfix": ") ",
     "delete_cmd_prefix": "rm(",
     "library": "var_list.r",
     "varRefreshCmd": "cat(var_dic_list()) "
    }
   },
   "types_to_exclude": [
    "module",
    "function",
    "builtin_function_or_method",
    "instance",
    "_Feature"
   ],
   "window_display": false
  }
 },
 "nbformat": 4,
 "nbformat_minor": 4
}
